{
 "cells": [
  {
   "cell_type": "code",
   "execution_count": null,
   "metadata": {},
   "outputs": [],
   "source": [
    "import pandas as pd\n",
    "import matplotlib.pyplot as plt\n",
    "import numpy as np\n",
    "import regex as re\n",
    "from geopy.distance import geodesic\n",
    "from geopy.geocoders import Nominatim\n",
    "\n",
    "pd.set_option('display.max_columns', 500)"
   ]
  },
  {
   "cell_type": "markdown",
   "metadata": {},
   "source": [
    "### **1. Inladen data**"
   ]
  },
  {
   "cell_type": "code",
   "execution_count": null,
   "metadata": {
    "notebookRunGroups": {
     "groupValue": "2"
    }
   },
   "outputs": [],
   "source": [
    "df = pd.read_csv('/mnt/data/jmaathuis/no_shows/no_show_all_apps_run2.csv', sep=';', parse_dates=['INVOERDAT', 'STARTDATEPLAN'], \n",
    "                dtype={'PATIENTNR': 'int64', 'MERGED': 'int64', 'GESLACHT': str, 'POSTOCDE': str, 'WOONPLAATS': str, #'LEEFTIJD': 'int64', \n",
    "                        'STARTTIMEPLAN': str, 'AANKOMST': str, 'AGENDA': str, 'SUBAGENDA': str, 'SPECCODE': str, 'TARAFD': str,\n",
    "                        'LOCATIONID': str, 'DESCRIPTION': str, 'IsVoldaan': str, 'AfspraakstatusKey': 'int64', 'CONSTYPE': str, 'CODE': str})\n",
    "   \n",
    "#0 for show, 1 for no-show\n",
    "df['no_show'] = df['AfspraakstatusKey'].isin([6, 8]).astype(int)"
   ]
  },
  {
   "cell_type": "code",
   "execution_count": null,
   "metadata": {},
   "outputs": [],
   "source": [
    "df['IsVoldaan'].value_counts(dropna=False)"
   ]
  },
  {
   "cell_type": "code",
   "execution_count": null,
   "metadata": {},
   "outputs": [],
   "source": [
    "df['AfspraakstatusKey'].value_counts()"
   ]
  },
  {
   "cell_type": "markdown",
   "metadata": {},
   "source": [
    "De dataset kan in twee datasets worden gesplitst:  \n",
    "1. de train test dataset\n",
    "2. de historie dataset\n",
    "\n",
    "De train test dataset bestaat uit data van 2020 tot en met 2023.  \n",
    "De historie dataset bestaat uit de data die nodig is om bepaalde features te maken in de train test dataset. Denk hierbij bijvoorbeeld aan aantal eerdere no-shows."
   ]
  },
  {
   "cell_type": "code",
   "execution_count": null,
   "metadata": {},
   "outputs": [],
   "source": [
    "df_tt = df[df['STARTDATEPLAN'] >= '2020-01-01']\n",
    "df_historie = df.loc[~df.index.isin(df_tt.index)]\n",
    "\n",
    "# check:\n",
    "print(len(df) == (len(df_tt) + len(df_historie)))\n",
    "\n",
    "# old df out of memory\n",
    "del df"
   ]
  },
  {
   "cell_type": "code",
   "execution_count": null,
   "metadata": {},
   "outputs": [],
   "source": [
    "# calcualte the start_date of each historie (-5 years)\n",
    "df_tt.loc[:,'START_HISTORIE'] = (df_tt['STARTDATEPLAN'] - pd.DateOffset(years=5))"
   ]
  },
  {
   "cell_type": "markdown",
   "metadata": {},
   "source": [
    "### **2. Data exploratie**"
   ]
  },
  {
   "cell_type": "markdown",
   "metadata": {},
   "source": [
    "Twee type features:\n",
    "1. normale features die we rechtstreeks kunnen gebruiken\n",
    "2. engineerd features (features die nog gemaakt moeten worden)"
   ]
  },
  {
   "cell_type": "code",
   "execution_count": null,
   "metadata": {
    "notebookRunGroups": {
     "groupValue": "1"
    }
   },
   "outputs": [],
   "source": [
    "class DataInspector():\n",
    "\n",
    "    def __init__(self, data: pd.Series, column: str):\n",
    "        self.data = data.copy()\n",
    "        self.column = column\n",
    "    \n",
    "    def count_values(self):\n",
    "        return self.data[self.column].value_counts(dropna=False).sort_index()\n",
    "\n",
    "\n",
    "class NumericalDataInspector(DataInspector):\n",
    "\n",
    "    def show_distributions(self):\n",
    "        numerical_data = self.data[self.column]\n",
    "\n",
    "        print(f'Mean:   {numerical_data.mean():.2f}')\n",
    "        print(f'Median: {numerical_data.median():.2f}')\n",
    "        print(f'Min:    {numerical_data.min():.0f}')\n",
    "        print(f'Max:    {numerical_data.max():.0f}')\n",
    "    \n",
    "    def plot_distributions(self, x_label, bins):\n",
    "        # - data wrangling - #\n",
    "        df = self.data\n",
    "\n",
    "        values_shows = df.loc[df['no_show'] == 0, self.column]\n",
    "        values_no_shows = df.loc[df['no_show'] == 1, self.column]\n",
    "\n",
    "        # calculate the percentages of the groups per bin \n",
    "        df['bins'] = pd.cut(df[self.column], bins, include_lowest=True)\n",
    "        percs = df.groupby('bins')['no_show'].value_counts(normalize=True).unstack() * 100\n",
    "\n",
    "        # - plotting - #\n",
    "        fig, ((ax1, ax2),(ax3, ax4)) = plt.subplots(2, 2, figsize=(16, 10))\n",
    "        fig.suptitle(self.column + '\\n\\n')\n",
    "\n",
    "        # -- histogram -- #\n",
    "        ax1.hist(values_shows, label='Shows', bins=bins, alpha=0.4)\n",
    "        ax1.hist(values_no_shows, label='No-Shows', bins=bins, alpha=0.4)\n",
    "        ax1.set_xlabel(x_label)\n",
    "        ax1.grid(alpha=0.2)\n",
    "        ax1.set_ylabel('Frequency')\n",
    "        ax1.set_title('Histogram')\n",
    "\n",
    "        # -- normalized histogram -- #\n",
    "        ax2.hist(values_shows, density=True, bins=bins, alpha=0.4)\n",
    "        ax2.hist(values_no_shows, density=True, bins=bins, alpha=0.4)\n",
    "        ax2.set_xlabel(x_label)\n",
    "        ax2.grid(alpha=0.2)\n",
    "        ax2.set_ylabel('Density')\n",
    "        ax2.set_title('Normalized histogram')\n",
    "\n",
    "        # -- boxplot -- #\n",
    "        bp = ax3.boxplot([values_shows.dropna().tolist(), values_no_shows.dropna().tolist()], vert=False, patch_artist=True)\n",
    "\n",
    "        boxplot_colors = ['C0', 'C1']\n",
    "        for patch, color in zip(bp['boxes'], boxplot_colors):\n",
    "            patch.set_facecolor(color)\n",
    "        for box in bp['boxes']:\n",
    "            box.set_alpha(0.5)\n",
    "        for median in bp['medians']:\n",
    "            median.set(color ='black')\n",
    "        for flier in bp['fliers']:\n",
    "            flier.set(marker ='D', markeredgecolor ='black', alpha=0.1)\n",
    "\n",
    "        ax3.set_yticklabels(['Shows', 'No-Shows'])\n",
    "        ax3.set_xlabel(x_label)  \n",
    "        ax3.grid(alpha=0.2)\n",
    "        ax3.set_title('Boxplot')\n",
    "        \n",
    "        # -- percentage chart -- #\n",
    "        ax4.bar(percs.index.astype(str), percs[0], alpha=0.4)\n",
    "        ax4.bar(percs.index.astype(str), percs[1], bottom=percs[0], alpha=0.4)\n",
    "        ax4.tick_params(axis='x', labelrotation=90)\n",
    "        ax4.set_ylabel('Percentage')\n",
    "        ax4.set_xlabel('Bin')\n",
    "        ax4.set_title('Percentage chart')\n",
    "        ax4.set_ylim(0, 110)\n",
    "        \n",
    "        # plot\n",
    "        fig.legend(bbox_to_anchor=(0.55, 0.95))\n",
    "        plt.tight_layout()\n",
    "        plt.show()\n",
    "\n",
    "\n",
    "class CategoricalDataInspector(DataInspector):\n",
    "\n",
    "    def plot_distributions(self, x_label, labels=None):\n",
    "\n",
    "        # - data wrangling - #\n",
    "        values = self.count_values()\n",
    "        df = self.data\n",
    "        \n",
    "        values_per_label = df.groupby([self.column, 'no_show'], dropna=False)[self.column].value_counts(dropna=False)\n",
    "        values_per_label = values_per_label.unstack().T.fillna(0)\n",
    "        values_shows = values_per_label.loc[0].astype(int)\n",
    "        values_no_shows = values_per_label.loc[1].astype(int)\n",
    "\n",
    "        perc_shows = values_shows/(values_shows + values_no_shows) * 100\n",
    "        perc_no_shows = values_no_shows/(values_shows + values_no_shows) * 100\n",
    "\n",
    "        # - plotting - #\n",
    "        fig, (ax1, ax2) = plt.subplots(1, 2, figsize=(14, 6))\n",
    "        plt.suptitle(self.column + '\\n\\n')\n",
    "        if labels == None:\n",
    "            labels = values.keys().astype(str)\n",
    "\n",
    "        # -- histogram -- #\n",
    "        ax1.bar(labels, values_shows, alpha=0.4, label='Shows')\n",
    "        ax1.bar(labels, values_no_shows, alpha=0.4, label='No-Shows')\n",
    "\n",
    "        ax1.set_xlabel(x_label)\n",
    "        ax1.grid(alpha=0.2)\n",
    "        ax1.tick_params(axis='x', labelrotation=90)\n",
    "        ax1.set_ylabel('Frequency')\n",
    "        ax1.set_title('Histogram')\n",
    "\n",
    "        # -- percentage barchart -- #\n",
    "        ax2.bar(labels, perc_shows, alpha=0.4)\n",
    "        bars = ax2.bar(labels, perc_no_shows, bottom=perc_shows, alpha=0.4)\n",
    "        ax2.bar_label(bars, round(perc_no_shows), fontsize=9, rotation=90)\n",
    "\n",
    "        ax2.set_xlabel(x_label)\n",
    "        ax2.grid(alpha=0.2)\n",
    "        ax2.tick_params(axis='x', labelrotation=90)\n",
    "        ax2.set_ylabel('Density')\n",
    "        ax2.set_ylim(0, 115)\n",
    "        ax2.set_title('Percentage chart')\n",
    "\n",
    "        fig.legend(bbox_to_anchor=(0.55, 0.93))\n",
    "        plt.tight_layout()\n",
    "        plt.show()\n",
    "\n",
    "\n",
    "class DateDataInspector(DataInspector):\n",
    "    \n",
    "    def plot_distribution(self, x_label, bins):\n",
    "\n",
    "        # - data wrangling - #\n",
    "        df = self.data\n",
    "        df_dates = df[self.column]\n",
    "\n",
    "        date_min = df_dates.min()\n",
    "        date_max = df_dates.max()\n",
    "\n",
    "        values_shows = df.loc[df['no_show'] == 0, self.column]\n",
    "        values_no_shows = df.loc[df['no_show'] == 1, self.column]\n",
    "\n",
    "        # - plotting - #\n",
    "        fig, (ax1, ax2) = plt.subplots(1, 2, figsize=(14, 5))\n",
    "        fig.suptitle(self.column + '\\n\\n')\n",
    "\n",
    "        # -- histogram -- #\n",
    "        ax1.hist(values_shows, label='Shows', density=False, alpha=0.4, bins=bins, range=(date_min, date_max))\n",
    "        ax1.hist(values_no_shows, label='No-Shows', density=False, alpha=0.4, bins=bins, range=(date_min, date_max))\n",
    "        ax1.set_title(f'Histogram')\n",
    "        ax1.set_xlabel(x_label)\n",
    "        ax1.grid(alpha=0.2)\n",
    "        ax1.set_ylabel('Frequency')\n",
    "\n",
    "        # -- normalized histogram -- #\n",
    "        ax2.hist(values_shows, density=True, alpha=0.4, bins=bins, range=(date_min, date_max))\n",
    "        ax2.hist(values_no_shows, density=True, alpha=0.4, bins=bins, range=(date_min, date_max))\n",
    "        ax2.set_xlabel(x_label)\n",
    "        ax2.set_title('Normalized histogram')\n",
    "        ax2.grid(alpha=0.2)\n",
    "        ax2.set_ylabel('Density')\n",
    "\n",
    "        fig.legend(bbox_to_anchor=(0.55, 0.93))\n",
    "        plt.tight_layout()\n",
    "        plt.show()\n",
    "\n",
    "class TimeDataInspector(NumericalDataInspector):\n",
    "\n",
    "    def __init__(self, data, column):\n",
    "        super().__init__(data, column)\n",
    "        self.data[self.column] = self.cat_time_to_hours(data[column])\n",
    "\n",
    "    def cat_time_to_hours(self, time_data):\n",
    "        time_data = pd.to_datetime(time_data,format= '%H:%M').dt.hour\n",
    "        return(time_data)\n",
    "\n",
    "class DistanceCalculator:\n",
    "\n",
    "    def __init__(self, zip_code: str):\n",
    "        ''' Zip code in the following format: \"AAAA12\" or \"AAAA 12\" '''        \n",
    "        self.gelocator = Nominatim(user_agent=\"DistanceCalculator\")\n",
    "        self.start_coords = self.get_coordinates(zip_code)\n",
    "    \n",
    "    def evaluate_zip_code(self, zip_code):\n",
    "        zip_code = zip_code.upper()\n",
    "        zip_code = ''.join(zip_code.split(' '))\n",
    "\n",
    "        if not re.match('^\\d{4}[A-Z]{2}$', zip_code):\n",
    "            raise ValueError('Zip code does not have the right format')\n",
    "        \n",
    "        return zip_code\n",
    "\n",
    "    \n",
    "    def get_coordinates(self, zip_code):\n",
    "        zip_code = self.evaluate_zip_code(zip_code)\n",
    "        location = self.gelocator.geocode(zip_code)\n",
    "\n",
    "        return(location.longitude, location.latitude)\n",
    "    \n",
    "    def get_distance(self, zip_code):\n",
    "        end_coords = self.get_coordinates(zip_code)\n",
    "        distance = geodesic(self.start_coords, end_coords).kilometers\n",
    "\n",
    "        return distance\n",
    "    \n"
   ]
  },
  {
   "cell_type": "markdown",
   "metadata": {},
   "source": [
    "#### **2.1 Normale features**"
   ]
  },
  {
   "cell_type": "markdown",
   "metadata": {},
   "source": [
    "##### **2.1.1 `Patient nummer`**"
   ]
  },
  {
   "cell_type": "code",
   "execution_count": null,
   "metadata": {},
   "outputs": [],
   "source": [
    "df_tt.PATIENTNR.nunique() / len(df_tt) * 100"
   ]
  },
  {
   "cell_type": "markdown",
   "metadata": {},
   "source": [
    "1342398 verschillende patieten waarvan 16% uniek is.   \n",
    "Veel dubbeling dus."
   ]
  },
  {
   "cell_type": "markdown",
   "metadata": {},
   "source": [
    "##### **2.1.2 `Merged`**"
   ]
  },
  {
   "cell_type": "code",
   "execution_count": null,
   "metadata": {},
   "outputs": [],
   "source": [
    "df_tt.MERGED"
   ]
  },
  {
   "cell_type": "code",
   "execution_count": null,
   "metadata": {
    "notebookRunGroups": {
     "groupValue": "1"
    }
   },
   "outputs": [],
   "source": [
    "mergedDataInspector = CategoricalDataInspector(df_tt, 'MERGED')\n",
    "mergedDataInspector.count_values()"
   ]
  },
  {
   "cell_type": "code",
   "execution_count": null,
   "metadata": {},
   "outputs": [],
   "source": [
    "mergedDataInspector.plot_distributions('Merged', labels=['No', 'Yes'])"
   ]
  },
  {
   "cell_type": "markdown",
   "metadata": {},
   "source": [
    "There does not seem te be a difference in patients that are merged based on the target variable"
   ]
  },
  {
   "cell_type": "markdown",
   "metadata": {},
   "source": [
    "##### **2.1.3 `Geslacht`**"
   ]
  },
  {
   "cell_type": "code",
   "execution_count": null,
   "metadata": {},
   "outputs": [],
   "source": [
    "df_tt['GESLACHT']"
   ]
  },
  {
   "cell_type": "code",
   "execution_count": null,
   "metadata": {},
   "outputs": [],
   "source": [
    "df_tt['GESLACHT'].value_counts()"
   ]
  },
  {
   "cell_type": "code",
   "execution_count": null,
   "metadata": {},
   "outputs": [],
   "source": [
    "df_tt[df_tt['GESLACHT'] == 'O']"
   ]
  },
  {
   "cell_type": "markdown",
   "metadata": {},
   "source": [
    "Deze patienten heb ik opgezocht in de database en zijn test patienten, dus ze kunnnen uit de dataset."
   ]
  },
  {
   "cell_type": "code",
   "execution_count": null,
   "metadata": {},
   "outputs": [],
   "source": [
    "df_tt = df_tt[df_tt['GESLACHT'] != 'O']"
   ]
  },
  {
   "cell_type": "code",
   "execution_count": null,
   "metadata": {
    "notebookRunGroups": {
     "groupValue": "1"
    }
   },
   "outputs": [],
   "source": [
    "geslachtDataInspector = CategoricalDataInspector(df_tt, 'GESLACHT')\n",
    "geslachtDataInspector.count_values()"
   ]
  },
  {
   "cell_type": "code",
   "execution_count": null,
   "metadata": {},
   "outputs": [],
   "source": [
    "geslachtDataInspector.plot_distributions('Geslacht')"
   ]
  },
  {
   "cell_type": "markdown",
   "metadata": {},
   "source": [
    "##### **2.1.4 `Leeftijd`**\n"
   ]
  },
  {
   "cell_type": "code",
   "execution_count": null,
   "metadata": {},
   "outputs": [],
   "source": [
    "df_tt.LEEFTIJD"
   ]
  },
  {
   "cell_type": "code",
   "execution_count": null,
   "metadata": {
    "notebookRunGroups": {
     "groupValue": "1"
    }
   },
   "outputs": [],
   "source": [
    "leeftijdDataInspector = NumericalDataInspector(df_tt, 'LEEFTIJD')"
   ]
  },
  {
   "cell_type": "code",
   "execution_count": null,
   "metadata": {},
   "outputs": [],
   "source": [
    "leeftijdDataInspector.count_values()"
   ]
  },
  {
   "cell_type": "code",
   "execution_count": null,
   "metadata": {},
   "outputs": [],
   "source": [
    "leeftijdDataInspector.show_distributions()"
   ]
  },
  {
   "cell_type": "code",
   "execution_count": null,
   "metadata": {},
   "outputs": [],
   "source": [
    "leeftijdDataInspector.plot_distributions('Leeftijd', bins=np.arange(0,126, 5))"
   ]
  },
  {
   "cell_type": "markdown",
   "metadata": {
    "notebookRunGroups": {
     "groupValue": "1"
    }
   },
   "source": [
    "##### **2.1.5 `Datum inplannen afspraak`**\n"
   ]
  },
  {
   "cell_type": "code",
   "execution_count": null,
   "metadata": {},
   "outputs": [],
   "source": [
    "df_tt.INVOERDAT"
   ]
  },
  {
   "cell_type": "code",
   "execution_count": null,
   "metadata": {},
   "outputs": [],
   "source": [
    "invoerdatDataInspector = DateDataInspector(df_tt, 'INVOERDAT')\n",
    "invoerdatDataInspector.plot_distribution('Datum inplannen afspraak', 40)"
   ]
  },
  {
   "cell_type": "markdown",
   "metadata": {},
   "source": [
    "##### **2.1.6 `Datum afspraak`**\n"
   ]
  },
  {
   "cell_type": "code",
   "execution_count": null,
   "metadata": {},
   "outputs": [],
   "source": [
    "invoerdatDataInspector = DateDataInspector(df_tt, 'STARTDATEPLAN')\n",
    "invoerdatDataInspector.plot_distribution('Datum inplannen afspraak', 30)\n",
    "# df_tt"
   ]
  },
  {
   "cell_type": "markdown",
   "metadata": {},
   "source": [
    "##### **2.1.7 `Tijd afspraak`**"
   ]
  },
  {
   "cell_type": "code",
   "execution_count": null,
   "metadata": {},
   "outputs": [],
   "source": [
    "df_tt['STARTTIMEPLAN']"
   ]
  },
  {
   "cell_type": "code",
   "execution_count": null,
   "metadata": {},
   "outputs": [],
   "source": [
    "startTimeDataInspector = TimeDataInspector(df_tt, 'STARTTIMEPLAN')\n",
    "startTimeDataInspector.count_values()"
   ]
  },
  {
   "cell_type": "code",
   "execution_count": null,
   "metadata": {},
   "outputs": [],
   "source": [
    "startTimeDataInspector.plot_distributions(x_label='Tijd afspraak', bins=np.arange(0, 25,1))"
   ]
  },
  {
   "cell_type": "markdown",
   "metadata": {},
   "source": [
    "Dal tijdens lunch tijd "
   ]
  },
  {
   "cell_type": "markdown",
   "metadata": {},
   "source": [
    "##### **2.1.8 `Aankomst tijd`**"
   ]
  },
  {
   "cell_type": "code",
   "execution_count": null,
   "metadata": {},
   "outputs": [],
   "source": [
    "df_tt['AANKOMST']"
   ]
  },
  {
   "cell_type": "code",
   "execution_count": null,
   "metadata": {},
   "outputs": [],
   "source": [
    "aankomstTimeDataInspector = TimeDataInspector(df_tt, 'AANKOMST')\n",
    "aankomstTimeDataInspector.count_values()"
   ]
  },
  {
   "cell_type": "markdown",
   "metadata": {},
   "source": [
    "Heel veel NaN's waarschijnijk doordat de aankomst tijd niet wordt ingevuld als de patient een no-show is"
   ]
  },
  {
   "cell_type": "code",
   "execution_count": null,
   "metadata": {},
   "outputs": [],
   "source": [
    "aankomstTimeDataInspector.plot_distributions('Aankomst tijd', bins=np.arange(0, 25, 1))"
   ]
  },
  {
   "cell_type": "markdown",
   "metadata": {},
   "source": [
    "Bijna geen data van no-show patienten, omdat daarvan geen aankomst tijd is ingevuld"
   ]
  },
  {
   "cell_type": "markdown",
   "metadata": {},
   "source": [
    "##### **2.1.9 `Agenda afspraak`**"
   ]
  },
  {
   "cell_type": "code",
   "execution_count": null,
   "metadata": {},
   "outputs": [],
   "source": [
    "df_tt['AGENDA']"
   ]
  },
  {
   "cell_type": "code",
   "execution_count": null,
   "metadata": {},
   "outputs": [],
   "source": [
    "agendaDataInspector = CategoricalDataInspector(df_tt, 'AGENDA')\n",
    "agendaDataInspector.count_values()"
   ]
  },
  {
   "cell_type": "code",
   "execution_count": null,
   "metadata": {},
   "outputs": [],
   "source": [
    "agendaDataInspector.plot_distributions('Agenda afpsraak')"
   ]
  },
  {
   "cell_type": "markdown",
   "metadata": {},
   "source": [
    "##### **2.1.10 `Specialisme`**"
   ]
  },
  {
   "cell_type": "code",
   "execution_count": null,
   "metadata": {},
   "outputs": [],
   "source": [
    "specialismDataInspector = CategoricalDataInspector(df_tt, 'SPECCODE')\n",
    "specialismDataInspector.count_values()"
   ]
  },
  {
   "cell_type": "code",
   "execution_count": null,
   "metadata": {},
   "outputs": [],
   "source": [
    "specialismDataInspector.plot_distributions(x_label='Specialisme')"
   ]
  },
  {
   "cell_type": "markdown",
   "metadata": {
    "notebookRunGroups": {
     "groupValue": "1"
    }
   },
   "source": [
    "##### **2.1.11 `Consult type`**"
   ]
  },
  {
   "cell_type": "code",
   "execution_count": null,
   "metadata": {},
   "outputs": [],
   "source": [
    "df_tt['CONSTYPE']"
   ]
  },
  {
   "cell_type": "code",
   "execution_count": null,
   "metadata": {},
   "outputs": [],
   "source": [
    "consultDataInspector = CategoricalDataInspector(df_tt, 'CONSTYPE')\n",
    "consultDataInspector.count_values()"
   ]
  },
  {
   "cell_type": "code",
   "execution_count": null,
   "metadata": {},
   "outputs": [],
   "source": [
    "consultDataInspector.plot_distributions('Consult type')"
   ]
  },
  {
   "cell_type": "markdown",
   "metadata": {},
   "source": [
    "##### **2.1.12 `Code`**"
   ]
  },
  {
   "cell_type": "code",
   "execution_count": null,
   "metadata": {},
   "outputs": [],
   "source": [
    "df_tt['CODE']"
   ]
  },
  {
   "cell_type": "code",
   "execution_count": null,
   "metadata": {},
   "outputs": [],
   "source": [
    "codeDataInspector = CategoricalDataInspector(df_tt, 'CODE')\n",
    "codeDataInspector.count_values()"
   ]
  },
  {
   "cell_type": "markdown",
   "metadata": {},
   "source": [
    "heel veel verschillende cataegorien. Misschien groeperen, of niet gebruiken i.v.m. ruis. "
   ]
  },
  {
   "cell_type": "markdown",
   "metadata": {},
   "source": [
    "#### **2.2 Engineerd features**"
   ]
  },
  {
   "cell_type": "code",
   "execution_count": null,
   "metadata": {},
   "outputs": [],
   "source": [
    "# feature engineering is done using a seperate script, so reload data\n",
    "df_tt = pd.read_csv('/mnt/data/jmaathuis/no_shows/no_shows_pp_v5.csv')"
   ]
  },
  {
   "cell_type": "markdown",
   "metadata": {},
   "source": [
    "##### **2.2.1 `Locatie`**"
   ]
  },
  {
   "cell_type": "code",
   "execution_count": null,
   "metadata": {},
   "outputs": [],
   "source": [
    "loc_keep = ['ZGT locatie Almelo', 'ZGT locatie Hengelo', 'Polikliniek Verloskunde Almelo', 'Obesitas centrum Hengelo ZGT', 'Oncologisch centrum Hengelo', 'Behandelcentrum Almelo', 'Slaapcentrum Hengelo', 'Behandelcentrum Hengelo', np.nan]\n",
    "df_tt = df_tt[df_tt['DESCRIPTION'].isin(loc_keep)]\n",
    "df_tt['DESCRIPTION'].value_counts(dropna=False).sort_values()"
   ]
  },
  {
   "cell_type": "code",
   "execution_count": null,
   "metadata": {},
   "outputs": [],
   "source": [
    "locationDataInspector = CategoricalDataInspector(df_tt, 'LOCATIE')\n",
    "locationDataInspector.count_values()"
   ]
  },
  {
   "cell_type": "code",
   "execution_count": null,
   "metadata": {},
   "outputs": [],
   "source": [
    "locationDataInspector.plot_distributions('Locatie')"
   ]
  },
  {
   "cell_type": "markdown",
   "metadata": {},
   "source": [
    "#### **2.2.2 `Afstand`**"
   ]
  },
  {
   "cell_type": "code",
   "execution_count": null,
   "metadata": {},
   "outputs": [],
   "source": [
    "df_tt['AFSTAND']"
   ]
  },
  {
   "cell_type": "code",
   "execution_count": null,
   "metadata": {},
   "outputs": [],
   "source": [
    "afstandDataInspector = NumericalDataInspector(df_tt, 'AFSTAND')\n",
    "afstandDataInspector.show_distributions()"
   ]
  },
  {
   "cell_type": "code",
   "execution_count": null,
   "metadata": {},
   "outputs": [],
   "source": [
    "afstandDataInspector.plot_distributions('Afstand (km)', bins=range(0, 366, 10))"
   ]
  },
  {
   "cell_type": "markdown",
   "metadata": {},
   "source": [
    "#### **2.2.3 `Verschil inplannen en afspraak`** "
   ]
  },
  {
   "cell_type": "code",
   "execution_count": null,
   "metadata": {},
   "outputs": [],
   "source": [
    "dayDeltaDataInspector = NumericalDataInspector(df_tt, 'VerschilInplannenEnAfspraak')\n",
    "dayDeltaDataInspector.show_distributions()"
   ]
  },
  {
   "cell_type": "code",
   "execution_count": null,
   "metadata": {},
   "outputs": [],
   "source": [
    "dayDeltaDataInspector.plot_distributions('Verschil inplannen en afspraak (dagen)', bins=range(0, 820, 20))"
   ]
  },
  {
   "cell_type": "markdown",
   "metadata": {},
   "source": [
    "Er zijn dus wat afspraken die later gepland zijn dan dat ze hebben plaats gevonden (veel SEH afspraken).   \n",
    "Aangezien ik geen no-show kan voorspellen van afspraken in het verleden verwijder ik deze afspraken:   \n",
    "\n",
    "** Deze zijn bij de re-run van dit notebook er al uitgehaald dus niet meer zichtbaar **"
   ]
  },
  {
   "cell_type": "markdown",
   "metadata": {},
   "source": [
    "#### **2.2.3 `Stiptheid`**"
   ]
  },
  {
   "cell_type": "markdown",
   "metadata": {},
   "source": [
    "Stiptheid is alsvolgt gedefinieerd: Gemiddelde verschil in tijd tussen aankomst en tijd afspraak"
   ]
  },
  {
   "cell_type": "code",
   "execution_count": null,
   "metadata": {},
   "outputs": [],
   "source": [
    "df_tt['stiptheid']"
   ]
  },
  {
   "cell_type": "code",
   "execution_count": null,
   "metadata": {},
   "outputs": [],
   "source": [
    "stiptheidDataInspector = NumericalDataInspector(df_tt, 'stiptheid')\n",
    "stiptheidDataInspector.show_distributions()"
   ]
  },
  {
   "cell_type": "code",
   "execution_count": null,
   "metadata": {},
   "outputs": [],
   "source": [
    "stiptheidDataInspector.plot_distributions('Stiptheid (min)', bins=range(-180, 180, 5))"
   ]
  },
  {
   "cell_type": "markdown",
   "metadata": {},
   "source": [
    "mooie normaal verdeling.   \n",
    "Zoals je kan zien zijn er meer no shows als de patient minder stipt is.  \n",
    "Interessant, ben benieuwd wat de feature importance hiervan is."
   ]
  },
  {
   "cell_type": "markdown",
   "metadata": {},
   "source": [
    "#### **2.2.4 `Eerdere no shows`**"
   ]
  },
  {
   "cell_type": "code",
   "execution_count": null,
   "metadata": {},
   "outputs": [],
   "source": [
    "df_tt['num_no_shows']"
   ]
  },
  {
   "cell_type": "code",
   "execution_count": null,
   "metadata": {},
   "outputs": [],
   "source": [
    "numNoShowsDataInspector = NumericalDataInspector(df_tt, 'num_no_shows')\n",
    "numNoShowsDataInspector.show_distributions() "
   ]
  },
  {
   "cell_type": "code",
   "execution_count": null,
   "metadata": {},
   "outputs": [],
   "source": [
    "numNoShowsDataInspector.plot_distributions(x_label='Aantal eerdere no-shows', bins=range(0,44, 1))"
   ]
  },
  {
   "cell_type": "markdown",
   "metadata": {},
   "source": [
    "#### **2.2.5 `Percentage eerdere no shows`**"
   ]
  },
  {
   "cell_type": "code",
   "execution_count": null,
   "metadata": {},
   "outputs": [],
   "source": [
    "df_tt['perc_no_shows']"
   ]
  },
  {
   "cell_type": "code",
   "execution_count": null,
   "metadata": {},
   "outputs": [],
   "source": [
    "percNoShowsDataInspector = NumericalDataInspector(df_tt, 'perc_no_shows')\n",
    "percNoShowsDataInspector.show_distributions()"
   ]
  },
  {
   "cell_type": "code",
   "execution_count": null,
   "metadata": {},
   "outputs": [],
   "source": [
    "percNoShowsDataInspector.plot_distributions(x_label='Eerdere no shows (%)', bins=np.arange(0, 1.01, 0.025))"
   ]
  }
 ],
 "metadata": {
  "kernelspec": {
   "display_name": "Python 3.8.10 ('belconsulten')",
   "language": "python",
   "name": "python3"
  },
  "language_info": {
   "codemirror_mode": {
    "name": "ipython",
    "version": 3
   },
   "file_extension": ".py",
   "mimetype": "text/x-python",
   "name": "python",
   "nbconvert_exporter": "python",
   "pygments_lexer": "ipython3",
   "version": "3.8.10"
  },
  "orig_nbformat": 4,
  "vscode": {
   "interpreter": {
    "hash": "4a8c2fb5217c5c27c23ac66d76c937205c5ea3ed670dcb9450dea28cbe2a6cff"
   }
  }
 },
 "nbformat": 4,
 "nbformat_minor": 2
}
